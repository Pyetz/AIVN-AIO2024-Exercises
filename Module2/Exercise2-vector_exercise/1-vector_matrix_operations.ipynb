{
 "cells": [
  {
   "cell_type": "markdown",
   "metadata": {},
   "source": [
    "# A. Length of a vector"
   ]
  },
  {
   "cell_type": "code",
   "execution_count": 1,
   "metadata": {},
   "outputs": [],
   "source": [
    "import numpy as np\n",
    "def compute_vector_length(vector):\n",
    "    # len_of_vector = np.linalg.norm(vector)\n",
    "    len_of_vector = np.sqrt(np.sum(np.square(vector)))\n",
    "    return len_of_vector"
   ]
  },
  {
   "cell_type": "markdown",
   "metadata": {},
   "source": [
    "# B. Dot product"
   ]
  },
  {
   "cell_type": "code",
   "execution_count": 2,
   "metadata": {},
   "outputs": [],
   "source": [
    "def compute_dot_product(vector1, vector2):\n",
    "    # result = np.dot(vector1, vector2)\n",
    "    result = np.sum(vector1 * vector2)\n",
    "    return result"
   ]
  },
  {
   "cell_type": "markdown",
   "metadata": {},
   "source": [
    "# C. Multiplying a vector by a matrix"
   ]
  },
  {
   "cell_type": "code",
   "execution_count": 18,
   "metadata": {},
   "outputs": [],
   "source": [
    "def matrix_multi_vector(matrix, vector):\n",
    "    # result = np.matmul(matrix, vector)\n",
    "    result = np.sum(matrix*vector.T, axis=1)\n",
    "    return result"
   ]
  },
  {
   "cell_type": "markdown",
   "metadata": {},
   "source": [
    "# D. Multiplying a matrix by a matrix"
   ]
  },
  {
   "cell_type": "code",
   "execution_count": 16,
   "metadata": {},
   "outputs": [
    {
     "name": "stdout",
     "output_type": "stream",
     "text": [
      "[[ 7. 10.]\n",
      " [15. 22.]\n",
      " [23. 34.]]\n"
     ]
    }
   ],
   "source": [
    "def matrix_multi_matrix(matrix1, matrix2):\n",
    "    # result = np.matmul(matrix1, matrix2)\n",
    "    result = np.zeros((matrix1.shape[0], matrix2.shape[1]))\n",
    "    for i in range(result.shape[0]):\n",
    "        result[i] = matrix_multi_vector(matrix2.T, matrix1[i])\n",
    "    return result"
   ]
  },
  {
   "cell_type": "markdown",
   "metadata": {},
   "source": [
    "# E. Matrix inverse"
   ]
  },
  {
   "cell_type": "code",
   "execution_count": 17,
   "metadata": {},
   "outputs": [],
   "source": [
    "def inverse_matrix(matrix):\n",
    "    # result = np.linalg.inv(matrix)\n",
    "    a, b, c, d = matrix.flatten()\n",
    "    det = a*d - b*c\n",
    "    try:\n",
    "        result = np.array([[d, -b], [-c, a]]) / det\n",
    "    except ZeroDivisionError:\n",
    "        result = None\n",
    "    return result"
   ]
  }
 ],
 "metadata": {
  "kernelspec": {
   "display_name": "aMs_3.11",
   "language": "python",
   "name": "python3"
  },
  "language_info": {
   "codemirror_mode": {
    "name": "ipython",
    "version": 3
   },
   "file_extension": ".py",
   "mimetype": "text/x-python",
   "name": "python",
   "nbconvert_exporter": "python",
   "pygments_lexer": "ipython3",
   "version": "3.11.9"
  }
 },
 "nbformat": 4,
 "nbformat_minor": 2
}

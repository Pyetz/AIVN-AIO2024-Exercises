{
 "cells": [
  {
   "cell_type": "markdown",
   "metadata": {},
   "source": [
    "# Question 1"
   ]
  },
  {
   "cell_type": "code",
   "execution_count": 1,
   "metadata": {},
   "outputs": [
    {
     "name": "stdout",
     "output_type": "stream",
     "text": [
      "[5, 5, 5, 5, 10, 12, 33, 33]\n"
     ]
    }
   ],
   "source": [
    "def max_kernel(num_list, k):\n",
    "    result = []\n",
    "    for i in range(len(num_list) - k + 1):\n",
    "        result.append(max(num_list[i:i+k]))\n",
    "    return result\n",
    "\n",
    "assert max_kernel([3, 4, 5, 1, -44], 3) == [5, 5, 5]\n",
    "num_list = [3, 4, 5, 1, -44, 5, 10, 12, 33, 1]\n",
    "k = 3\n",
    "print(max_kernel(num_list, k))\n"
   ]
  },
  {
   "cell_type": "markdown",
   "metadata": {},
   "source": [
    "# Question 2"
   ]
  },
  {
   "cell_type": "code",
   "execution_count": 3,
   "metadata": {},
   "outputs": [
    {
     "name": "stdout",
     "output_type": "stream",
     "text": [
      "{'s': 2, 'm': 1, 'i': 1, 'l': 1, 'e': 1}\n"
     ]
    }
   ],
   "source": [
    "def character_count(word):\n",
    "    character_statistic = {}\n",
    "    for char in word:\n",
    "        if char in character_statistic:\n",
    "            character_statistic[char] += 1\n",
    "        else:\n",
    "            character_statistic[char] = 1\n",
    "\n",
    "    return character_statistic\n",
    "\n",
    "assert character_count(\"Baby\") == {'B': 1, 'a': 1, 'b': 1, 'y': 1}\n",
    "print(character_count('smiles'))\n"
   ]
  },
  {
   "cell_type": "markdown",
   "metadata": {},
   "source": [
    "# Question 3"
   ]
  },
  {
   "cell_type": "code",
   "execution_count": 10,
   "metadata": {},
   "outputs": [
    {
     "name": "stdout",
     "output_type": "stream",
     "text": [
      "6\n"
     ]
    }
   ],
   "source": [
    "!gdown https://drive.google.com/uc?id =1IBScGdW2xlNsc9v5zSAya548kNgiOrko\n",
    "\n",
    "def count_word(file_path):\n",
    "    counter = {}\n",
    "    \n",
    "    with open(file_path, 'r') as file:\n",
    "        content = file.read()\n",
    "    content = content.lower()\n",
    "    content = content.replace('\\n', ' ')\n",
    "    words = content.split(' ')\n",
    "    for word in words:\n",
    "        if word in counter:\n",
    "            counter[word] += 1\n",
    "        else:\n",
    "            counter[word] = 1\n",
    "    \n",
    "    return counter\n",
    "\n",
    "file_path = 'content/P1_data.txt'\n",
    "result = count_word(file_path)\n",
    "assert result['who'] == 3\n",
    "print(result['man'])"
   ]
  },
  {
   "cell_type": "markdown",
   "metadata": {},
   "source": [
    "# Question 4"
   ]
  },
  {
   "cell_type": "code",
   "execution_count": 25,
   "metadata": {},
   "outputs": [
    {
     "name": "stdout",
     "output_type": "stream",
     "text": [
      "3\n"
     ]
    }
   ],
   "source": [
    "def Levenshtein_distance(token1, token2):\n",
    "    M = len(token1) + 1\n",
    "    N = len(token2) + 1\n",
    "    D = [[None for _ in range(N)] for _ in range(M)]\n",
    "\n",
    "    for i in range(M):\n",
    "        D[i][0] = i\n",
    "    for i in range(N):\n",
    "        D[0][i] = i\n",
    "\n",
    "    for i in range(1, M):\n",
    "        for j in range(1, N):\n",
    "            if token1[i - 1] == token2[j - 1]:\n",
    "                D[i][j] = D[i - 1][j - 1]\n",
    "            else:\n",
    "                D[i][j] = min(D[i - 1][j] + 1, D[i][j - 1] +\n",
    "                              1, D[i - 1][j - 1] + 1)\n",
    "\n",
    "    return D[M - 1][N - 1]\n",
    "\n",
    "assert Levenshtein_distance(\"hi\", \"hello\") == 4.0\n",
    "print(Levenshtein_distance(\"hola\", \"hello\"))\n"
   ]
  },
  {
   "cell_type": "markdown",
   "metadata": {},
   "source": [
    "# Question 5"
   ]
  },
  {
   "cell_type": "code",
   "execution_count": 11,
   "metadata": {},
   "outputs": [
    {
     "name": "stdout",
     "output_type": "stream",
     "text": [
      "True\n"
     ]
    }
   ],
   "source": [
    "def check_the_number(N):\n",
    "    list_of_numbers = []\n",
    "    result = \"\"\n",
    "    for i in range(1, 5):\n",
    "        list_of_numbers.append(i)\n",
    "    if N in list_of_numbers:\n",
    "        results = \"True\"\n",
    "    else:\n",
    "        results = \"False\"\n",
    "    return results\n",
    "\n",
    "N = 7\n",
    "assert check_the_number(N) == \"False\"\n",
    "\n",
    "N = 2\n",
    "results = check_the_number(N)\n",
    "print(results)\n"
   ]
  },
  {
   "cell_type": "markdown",
   "metadata": {},
   "source": [
    "# Question 6"
   ]
  },
  {
   "cell_type": "code",
   "execution_count": 12,
   "metadata": {},
   "outputs": [
    {
     "name": "stdout",
     "output_type": "stream",
     "text": [
      "[2, 2, 2, 1, 1]\n"
     ]
    }
   ],
   "source": [
    "def my_function(data, max, min):\n",
    "    result = []\n",
    "    for i in data:\n",
    "        if i < min:\n",
    "            result.append(min)\n",
    "        elif i > max:\n",
    "            result.append(max)\n",
    "        else:\n",
    "            result.append(i)\n",
    "    return result\n",
    "\n",
    "my_list = [5, 2, 5, 0, 1]\n",
    "max_val = 1\n",
    "min_val = 0\n",
    "assert my_function(data=my_list, max=max_val, min=min_val) == [1, 1, 1, 0, 1]\n",
    "\n",
    "my_list = [10, 2, 5, 0, 1]\n",
    "max_val = 2\n",
    "min_val = 1\n",
    "print(my_function(data=my_list, max=max_val, min=min_val))\n"
   ]
  },
  {
   "cell_type": "markdown",
   "metadata": {},
   "source": [
    "# Question 7"
   ]
  },
  {
   "cell_type": "code",
   "execution_count": 13,
   "metadata": {},
   "outputs": [
    {
     "name": "stdout",
     "output_type": "stream",
     "text": [
      "[1, 2, 3, 4, 0, 0]\n"
     ]
    }
   ],
   "source": [
    "def my_function(x, y):\n",
    "    x.extend(y)\n",
    "    return x\n",
    "\n",
    "list_num1 = ['a', 2, 5]\n",
    "list_num2 = [1, 1]\n",
    "list_num3 = [0, 0]\n",
    "\n",
    "assert my_function(list_num1, my_function(list_num2, list_num3)) == ['a', 2, 5, 1, 1, 0, 0]\n",
    "\n",
    "list_num1 = [1, 2]\n",
    "list_num2 = [3, 4]\n",
    "list_num3 = [0, 0]\n",
    "\n",
    "print(my_function(list_num1, my_function(list_num2, list_num3)))\n"
   ]
  },
  {
   "cell_type": "markdown",
   "metadata": {},
   "source": [
    "# Question 8"
   ]
  },
  {
   "cell_type": "code",
   "execution_count": 14,
   "metadata": {},
   "outputs": [
    {
     "name": "stdout",
     "output_type": "stream",
     "text": [
      "-1\n"
     ]
    }
   ],
   "source": [
    "def my_function(n):\n",
    "    return min(n)\n",
    "\n",
    "my_list = [1, 22, 93, -100]\n",
    "assert my_function(my_list) == -100\n",
    "\n",
    "my_list = [1, 2, 3, -1]\n",
    "print(my_function(my_list))\n"
   ]
  },
  {
   "cell_type": "markdown",
   "metadata": {},
   "source": [
    "# Question 9"
   ]
  },
  {
   "cell_type": "code",
   "execution_count": 15,
   "metadata": {},
   "outputs": [
    {
     "name": "stdout",
     "output_type": "stream",
     "text": [
      "9\n"
     ]
    }
   ],
   "source": [
    "def my_function(n):\n",
    "    return max(n)\n",
    "\n",
    "my_list = [1001, 9, 100, 0]\n",
    "assert my_function(my_list) == 1001\n",
    "\n",
    "my_list = [1, 9, 9, 0]\n",
    "print(my_function(my_list))\n"
   ]
  },
  {
   "cell_type": "markdown",
   "metadata": {},
   "source": [
    "# Question 10"
   ]
  },
  {
   "cell_type": "code",
   "execution_count": 16,
   "metadata": {},
   "outputs": [
    {
     "name": "stdout",
     "output_type": "stream",
     "text": [
      "True\n"
     ]
    }
   ],
   "source": [
    "def My_function(integers, number=1):\n",
    "    return any(each == number for each in integers)\n",
    "\n",
    "my_list = [1, 3, 9, 4]\n",
    "assert My_function(my_list, -1) == False\n",
    "\n",
    "my_list = [1, 2, 3, 4]\n",
    "print(My_function(my_list, 2))\n"
   ]
  },
  {
   "cell_type": "markdown",
   "metadata": {},
   "source": [
    "# Question 11"
   ]
  },
  {
   "cell_type": "code",
   "execution_count": 17,
   "metadata": {},
   "outputs": [
    {
     "name": "stdout",
     "output_type": "stream",
     "text": [
      "1.0\n"
     ]
    }
   ],
   "source": [
    "def my_function(list_nums=[0, 1, 2]):\n",
    "    var = 0\n",
    "    for i in list_nums:\n",
    "        var += i\n",
    "    return var / len(list_nums)\n",
    "\n",
    "assert my_function([4, 6, 8]) == 6\n",
    "print(my_function())\n"
   ]
  },
  {
   "cell_type": "markdown",
   "metadata": {},
   "source": [
    "# Question 12"
   ]
  },
  {
   "cell_type": "code",
   "execution_count": 18,
   "metadata": {},
   "outputs": [
    {
     "name": "stdout",
     "output_type": "stream",
     "text": [
      "[3, 6]\n"
     ]
    }
   ],
   "source": [
    "def my_function(data):\n",
    "    var = []\n",
    "    for i in data:\n",
    "        if i % 3 == 0:\n",
    "            var.append(i)\n",
    "    return var\n",
    "\n",
    "assert my_function([3, 9, 4, 5]) == [3, 9]\n",
    "print(my_function([1, 2, 3, 5, 6]))"
   ]
  },
  {
   "cell_type": "markdown",
   "metadata": {},
   "source": [
    "# Question 13"
   ]
  },
  {
   "cell_type": "code",
   "execution_count": 19,
   "metadata": {},
   "outputs": [
    {
     "name": "stdout",
     "output_type": "stream",
     "text": [
      "24\n"
     ]
    }
   ],
   "source": [
    "def my_function(y):\n",
    "    var = 1\n",
    "    while y > 1:\n",
    "        var *= y\n",
    "        y -= 1\n",
    "    return var\n",
    "\n",
    "assert my_function(8) == 40320\n",
    "print(my_function(4))"
   ]
  },
  {
   "cell_type": "markdown",
   "metadata": {},
   "source": [
    "# Question 14"
   ]
  },
  {
   "cell_type": "code",
   "execution_count": 21,
   "metadata": {},
   "outputs": [
    {
     "name": "stdout",
     "output_type": "stream",
     "text": [
      "tocirpa\n"
     ]
    }
   ],
   "source": [
    "def my_function(x):\n",
    "    return x[::-1]\n",
    "\n",
    "x = 'I can do it'\n",
    "assert my_function(x) == \"ti od nac I\"\n",
    "\n",
    "x = 'apricot'\n",
    "print(my_function(x))"
   ]
  },
  {
   "cell_type": "markdown",
   "metadata": {},
   "source": [
    "# Question 15"
   ]
  },
  {
   "cell_type": "code",
   "execution_count": 22,
   "metadata": {},
   "outputs": [
    {
     "name": "stdout",
     "output_type": "stream",
     "text": [
      "['T', 'T', 'T', 'N']\n"
     ]
    }
   ],
   "source": [
    "def function_helper(x):\n",
    "    if x > 0:\n",
    "        return 'T'\n",
    "    else:\n",
    "        return 'N'\n",
    "\n",
    "def my_function(data):\n",
    "    res = [function_helper(x) for x in data]\n",
    "    return res\n",
    "\n",
    "data = [10, 0, -10, -1]\n",
    "assert my_function(data) == ['T', 'N', 'N', 'N']\n",
    "\n",
    "data = [2, 3, 5, -1]\n",
    "print(my_function(data))"
   ]
  },
  {
   "cell_type": "markdown",
   "metadata": {},
   "source": [
    "# Question 16"
   ]
  },
  {
   "cell_type": "code",
   "execution_count": 23,
   "metadata": {},
   "outputs": [
    {
     "name": "stdout",
     "output_type": "stream",
     "text": [
      "[9, 8, 1]\n"
     ]
    }
   ],
   "source": [
    "def function_helper(x, data):\n",
    "    for i in data:\n",
    "        if x == i:\n",
    "            return 0\n",
    "    return 1\n",
    "\n",
    "def my_function(data):\n",
    "    res = []\n",
    "    for i in data:\n",
    "        if function_helper(i, res):\n",
    "            res.append(i)\n",
    "    \n",
    "    return res\n",
    "\n",
    "lst = [10, 10, 9, 7, 7]\n",
    "assert my_function(lst) == [10, 9, 7]\n",
    "\n",
    "lst = [9, 9, 8, 1, 1]\n",
    "print(my_function(lst))"
   ]
  }
 ],
 "metadata": {
  "kernelspec": {
   "display_name": "aMs_3.11",
   "language": "python",
   "name": "python3"
  },
  "language_info": {
   "codemirror_mode": {
    "name": "ipython",
    "version": 3
   },
   "file_extension": ".py",
   "mimetype": "text/x-python",
   "name": "python",
   "nbconvert_exporter": "python",
   "pygments_lexer": "ipython3",
   "version": "3.11.8"
  }
 },
 "nbformat": 4,
 "nbformat_minor": 2
}

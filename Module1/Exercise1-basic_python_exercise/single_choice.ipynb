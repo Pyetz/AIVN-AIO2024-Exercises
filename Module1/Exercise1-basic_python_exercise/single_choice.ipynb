{
 "cells": [
  {
   "cell_type": "markdown",
   "metadata": {},
   "source": [
    "# Question 1"
   ]
  },
  {
   "cell_type": "code",
   "execution_count": 1,
   "metadata": {},
   "outputs": [
    {
     "name": "stdout",
     "output_type": "stream",
     "text": [
      "0.31\n"
     ]
    }
   ],
   "source": [
    "import math\n",
    "\n",
    "def calc_f1_score(tp, fp, fn):\n",
    "    # Your code here\n",
    "    precision = tp / (tp+fp)\n",
    "    recall = tp / (tp+fn)\n",
    "    return 2 * (precision * recall) / (precision + recall)\n",
    "    # End your code\n",
    "\n",
    "assert round(calc_f1_score(tp=2, fp=3, fn=5), 2) == 0.33\n",
    "print(round(calc_f1_score(tp=2, fp=4, fn=5), 2))"
   ]
  },
  {
   "cell_type": "markdown",
   "metadata": {},
   "source": [
    "# Question 2"
   ]
  },
  {
   "cell_type": "code",
   "execution_count": 4,
   "metadata": {},
   "outputs": [
    {
     "name": "stdout",
     "output_type": "stream",
     "text": [
      "True\n",
      "False\n"
     ]
    }
   ],
   "source": [
    "import math\n",
    "def is_number(n):\n",
    "    # Your code here\n",
    "    if type(n) == int or type(n) == float:\n",
    "        return True\n",
    "    return n.isnumeric()\n",
    "    # # End your code\n",
    "\n",
    "assert is_number (3) == 1.0\n",
    "assert is_number('-2a') == 0.0\n",
    "print(is_number(1))\n",
    "print(is_number('n'))"
   ]
  },
  {
   "cell_type": "markdown",
   "metadata": {},
   "source": [
    "# Question 4"
   ]
  },
  {
   "cell_type": "code",
   "execution_count": 5,
   "metadata": {},
   "outputs": [
    {
     "name": "stdout",
     "output_type": "stream",
     "text": [
      "0.88\n"
     ]
    }
   ],
   "source": [
    "def calc_sig(x):\n",
    "    # Your code here\n",
    "    return 1 / (1 + math.pow(math.e, -x))\n",
    "    # End your code\n",
    "\n",
    "assert round(calc_sig(3), 2)==0.95\n",
    "print(round(calc_sig(2), 2))"
   ]
  },
  {
   "cell_type": "markdown",
   "metadata": {},
   "source": [
    "# Question 5"
   ]
  },
  {
   "cell_type": "code",
   "execution_count": 6,
   "metadata": {},
   "outputs": [
    {
     "name": "stdout",
     "output_type": "stream",
     "text": [
      "-0.01\n"
     ]
    }
   ],
   "source": [
    "def calc_elu(x):\n",
    "    # Your code here\n",
    "    alpha = 0.01\n",
    "    if x <= 0:\n",
    "        return alpha * (math.e**x - 1)\n",
    "    else:\n",
    "        return x\n",
    "    # End your code\n",
    "\n",
    "assert round(calc_elu(1))==1\n",
    "print(round(calc_elu(-1), 2))"
   ]
  },
  {
   "cell_type": "markdown",
   "metadata": {},
   "source": [
    "# Question 6"
   ]
  },
  {
   "cell_type": "code",
   "execution_count": 7,
   "metadata": {},
   "outputs": [
    {
     "name": "stdout",
     "output_type": "stream",
     "text": [
      "0.95\n"
     ]
    }
   ],
   "source": [
    "# cau 6\n",
    "def calc_relu(x):\n",
    "    if x <= 0:\n",
    "        return 0.0\n",
    "    else:\n",
    "        return x\n",
    "\n",
    "def calc_activation_func(x, act_name):\n",
    "    # Your code here\n",
    "    if act_name == 'relu':\n",
    "        return calc_relu(x)\n",
    "    elif act_name == 'sigmoid':\n",
    "        return calc_sig(x)\n",
    "    else:\n",
    "        return calc_elu(x)\n",
    "    # End your code\n",
    "\n",
    "assert calc_activation_func(x = 1, act_name='relu') == 1\n",
    "print(round(calc_activation_func(x = 3, act_name='sigmoid'), 2))"
   ]
  },
  {
   "cell_type": "markdown",
   "metadata": {},
   "source": [
    "# Question 7"
   ]
  },
  {
   "cell_type": "code",
   "execution_count": 8,
   "metadata": {},
   "outputs": [
    {
     "name": "stdout",
     "output_type": "stream",
     "text": [
      "7\n"
     ]
    }
   ],
   "source": [
    "def calc_ae(y, y_hat):\n",
    "    # Your code here\n",
    "    return abs(y - y_hat)\n",
    "    # End your code\n",
    "\n",
    "y = 1\n",
    "y_hat = 6\n",
    "assert calc_ae(y, y_hat)==5\n",
    "y = 2\n",
    "y_hat = 9\n",
    "print(calc_ae(y, y_hat))"
   ]
  },
  {
   "cell_type": "markdown",
   "metadata": {},
   "source": [
    "# Question 8"
   ]
  },
  {
   "cell_type": "code",
   "execution_count": 9,
   "metadata": {},
   "outputs": [
    {
     "name": "stdout",
     "output_type": "stream",
     "text": [
      "1\n"
     ]
    }
   ],
   "source": [
    "def calc_se(y, y_hat):\n",
    "    # Your code here\n",
    "    return (y - y_hat) ** 2\n",
    "    # End your code\n",
    "\n",
    "y=4\n",
    "y_hat = 2\n",
    "assert calc_se(y, y_hat) == 4\n",
    "print(calc_se(2, 1))"
   ]
  },
  {
   "cell_type": "markdown",
   "metadata": {},
   "source": [
    "# Question 9"
   ]
  },
  {
   "cell_type": "code",
   "execution_count": 10,
   "metadata": {},
   "outputs": [
    {
     "name": "stdout",
     "output_type": "stream",
     "text": [
      "-1.0\n"
     ]
    }
   ],
   "source": [
    "def factorial (n):\n",
    "    if n < 2:\n",
    "        return 1\n",
    "    return n * factorial(n-1)\n",
    "\n",
    "def approx_cos(x, n):\n",
    "    # Your code here\n",
    "    result = 0\n",
    "    for i in range (0, n + 1):\n",
    "        result += (-1)**i * (x**(2*i) / factorial(2*i))\n",
    "    return result\n",
    "    # End your code\n",
    "\n",
    "assert round(approx_cos(x=1, n=10), 2)==0.54\n",
    "print(round(approx_cos(x=3.14, n=10), 2))"
   ]
  },
  {
   "cell_type": "markdown",
   "metadata": {},
   "source": [
    "# Question 10"
   ]
  },
  {
   "cell_type": "code",
   "execution_count": 11,
   "metadata": {},
   "outputs": [
    {
     "name": "stdout",
     "output_type": "stream",
     "text": [
      "0.0016\n"
     ]
    }
   ],
   "source": [
    "def approx_sin(x, n):\n",
    "    # Your code here\n",
    "    result = 0\n",
    "    for i in range (0, n + 1):\n",
    "        result += (-1)**i * (x**(2*i+1) / factorial(2*i+1))\n",
    "    return result\n",
    "    # End your code\n",
    "assert round(approx_sin(x=1, n=10), 4)==0.8415\n",
    "print(round(approx_sin(x=3.14, n=10), 4))"
   ]
  },
  {
   "cell_type": "markdown",
   "metadata": {},
   "source": [
    "# Question 11"
   ]
  },
  {
   "cell_type": "code",
   "execution_count": 12,
   "metadata": {},
   "outputs": [
    {
     "name": "stdout",
     "output_type": "stream",
     "text": [
      "11.53\n"
     ]
    }
   ],
   "source": [
    "def approx_sinh(x, n):\n",
    "    # Your code here\n",
    "    result = 0\n",
    "    for i in range (1, 2*n + 2, 2):\n",
    "        result += x**(i) / factorial(i)\n",
    "    return result\n",
    "    # End your code\n",
    "\n",
    "assert round(approx_sinh(x=1, n=10), 2)==1.18\n",
    "print(round(approx_sinh(x=3.14, n=10), 2))"
   ]
  },
  {
   "cell_type": "markdown",
   "metadata": {},
   "source": [
    "# Question 12"
   ]
  },
  {
   "cell_type": "code",
   "execution_count": 13,
   "metadata": {},
   "outputs": [
    {
     "name": "stdout",
     "output_type": "stream",
     "text": [
      "11.57\n"
     ]
    }
   ],
   "source": [
    "def approx_cosh(x, n):\n",
    "    # Your code here\n",
    "    result = 0\n",
    "    for i in range (0, 2*n + 1, 2):\n",
    "        result += (x**(i) / factorial(i))\n",
    "    return result\n",
    "    # End your code\n",
    "\n",
    "assert round(approx_cosh(x=1, n=10), 2)==1.54\n",
    "print(round(approx_cosh(x=3.14, n=10), 2))"
   ]
  },
  {
   "cell_type": "markdown",
   "metadata": {},
   "source": [
    "# Question 13"
   ]
  },
  {
   "cell_type": "code",
   "execution_count": 15,
   "metadata": {},
   "outputs": [
    {
     "data": {
      "text/plain": [
       "0.025031328369998107"
      ]
     },
     "execution_count": 15,
     "metadata": {},
     "output_type": "execute_result"
    }
   ],
   "source": [
    "def md_nre_single_sample(y, y_hat, n, p):\n",
    "    y_root = y ** (1/n)\n",
    "    y_hat_root = y_hat ** (1/n)\n",
    "    difference = y_root - y_hat_root\n",
    "    loss = difference ** p\n",
    "    return loss\n",
    "\n",
    "md_nre_single_sample(y=100, y_hat=99.5, n=2, p=1)"
   ]
  }
 ],
 "metadata": {
  "kernelspec": {
   "display_name": "aMs_3.11",
   "language": "python",
   "name": "python3"
  },
  "language_info": {
   "codemirror_mode": {
    "name": "ipython",
    "version": 3
   },
   "file_extension": ".py",
   "mimetype": "text/x-python",
   "name": "python",
   "nbconvert_exporter": "python",
   "pygments_lexer": "ipython3",
   "version": "3.1.undefined"
  }
 },
 "nbformat": 4,
 "nbformat_minor": 2
}
